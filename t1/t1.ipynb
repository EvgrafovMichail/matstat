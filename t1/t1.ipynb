{
 "cells": [
  {
   "cell_type": "markdown",
   "metadata": {},
   "source": [
    "# Задание Т1. Евграфов Михаил. Б03-913С2"
   ]
  },
  {
   "cell_type": "markdown",
   "metadata": {},
   "source": [
    "Случайная величина имеет экспоненциальный закон распределения:\n",
    "\n",
    "$ \\begin{equation*}\n",
    "p(x) = \n",
    " \\begin{cases}\n",
    "   e^{-x} &\\text{, $ x \\geq 0 $}\\\\\n",
    "   0 &\\text{, $ x < 0 $}\n",
    " \\end{cases}\n",
    "\\end{equation*}\n",
    "$\n",
    "\n",
    "Объём выборки: $ N = 25 $"
   ]
  },
  {
   "cell_type": "markdown",
   "metadata": {},
   "source": [
    "**Используемые пакеты:**"
   ]
  },
  {
   "cell_type": "code",
   "execution_count": 1,
   "metadata": {},
   "outputs": [],
   "source": [
    "import matplotlib.pyplot as plt\n",
    "import scipy.stats as st\n",
    "import seaborn as sns\n",
    "import random as rd\n",
    "import pandas as pd\n",
    "import numpy as np"
   ]
  },
  {
   "cell_type": "markdown",
   "metadata": {},
   "source": [
    "**Константы:**"
   ]
  },
  {
   "cell_type": "code",
   "execution_count": 2,
   "metadata": {},
   "outputs": [],
   "source": [
    "length = 12.8 # Длина изображений в дюймах\n",
    "width = 9.6   # Ширина изображений в дюймах\n",
    "lambd = 1     # Среднее значение\n",
    "bootsN = 1000 # Количество подвыборок для bootstrap.\n",
    "N = 25        # Объём выборки"
   ]
  },
  {
   "cell_type": "markdown",
   "metadata": {},
   "source": [
    "**Вспомогательные функции:**"
   ]
  },
  {
   "cell_type": "code",
   "execution_count": 3,
   "metadata": {},
   "outputs": [],
   "source": [
    "def generate_exponential_sample(size, lambd):\n",
    "    \"\"\"\n",
    "    Эта функция генерирует выборку для экспоненциального\n",
    "    закона распределения\n",
    "    \n",
    "    :параметр: size - объём выборки\n",
    "    :параметр: lambd - среднее значение\n",
    "    \n",
    "    :return: pd.DataFrame\n",
    "    \"\"\"\n",
    "    \n",
    "    sample = {'sample' : [rd.expovariate(lambd) for i in range(size)]}\n",
    "    \n",
    "    return pd.DataFrame(data=sample)"
   ]
  },
  {
   "cell_type": "code",
   "execution_count": 4,
   "metadata": {},
   "outputs": [],
   "source": [
    "def generate_subsample(sample, size):\n",
    "    \"\"\"\n",
    "    Эта функция генерирует подвыборку для заданной\n",
    "    выборки\n",
    "    \n",
    "    :параметр: sample - выборка\n",
    "    :параметр: size - объём подвыборки\n",
    "    \n",
    "    :return: np.array\n",
    "    \"\"\"\n",
    "    \n",
    "    subsample = [rd.choice(sample) for i in range(size)]\n",
    "    \n",
    "    return np.array(subsample)"
   ]
  },
  {
   "cell_type": "code",
   "execution_count": 5,
   "metadata": {},
   "outputs": [],
   "source": [
    "def generate_bootstrap_sample(sample, stat, size):\n",
    "    \n",
    "    \"\"\"\n",
    "    Эта функция генерирует выборку для заданной статистики,\n",
    "    используя метод bootstrap\n",
    "    \n",
    "    :параметр: sample - выборка\n",
    "    :параметр: stat - функция для расчёта статистики\n",
    "    :параметр: size - объём итоговой выборки\n",
    "    \n",
    "    :return: pd.DataFrame\n",
    "    \"\"\"\n",
    "    \n",
    "    boots_sample = []\n",
    "    \n",
    "    for i in range(size):\n",
    "        \n",
    "        subsample = generate_subsample(sample, len(sample))\n",
    "        boots_sample.append(stat(subsample))\n",
    "        \n",
    "    return pd.DataFrame(data={'sample' : boots_sample})"
   ]
  },
  {
   "cell_type": "code",
   "execution_count": 6,
   "metadata": {},
   "outputs": [],
   "source": [
    "def visualize_boxplot_from_df(df, column):\n",
    "    \"\"\"\n",
    "    Эта функция рисует boxplot\n",
    "    \n",
    "    :параметр: df - таблица с данными pd.DataFrame\n",
    "    :параметр: column - название колонки, для \n",
    "                        которой будет построен boxplot\n",
    "    \n",
    "    :return: ничего не возвращает\n",
    "    \n",
    "    \"\"\"\n",
    "    fig, ax = plt.subplots(figsize=(length, width))\n",
    "\n",
    "    sns.boxplot(df.loc[:, column], linewidth=2.5, width=.2, \n",
    "                color='pink', saturation=0.5, fliersize=10)\n",
    "\n",
    "    plt.title('Boxplot T1', fontsize=17,  fontweight='bold')\n",
    "    plt.xlabel('Sample', fontsize=12, fontweight='bold')\n",
    "    plt.grid()\n",
    "\n",
    "    plt.show()"
   ]
  },
  {
   "cell_type": "code",
   "execution_count": 7,
   "metadata": {},
   "outputs": [],
   "source": [
    "def visualize_edf_from_df(df, column):\n",
    "    \"\"\"\n",
    "    Эта функция рисует эмпирическую функцию распределения\n",
    "    \n",
    "    :параметр: df - таблица с данными pd.DataFrame\n",
    "    :параметр: column - название колонки, для \n",
    "                        которой будет построена edf\n",
    "                        \n",
    "    :return: ничего не возвращает\n",
    "    \n",
    "    \"\"\"\n",
    "    \n",
    "    freq = df.loc[:, column].value_counts(normalize=True).to_numpy()\n",
    "    prob = np.cumsum(freq)\n",
    "    \n",
    "    edf = df.assign(probability=prob)\n",
    "    edf.plot(x='sample', y='probability', drawstyle='steps', figsize=(length, width), \n",
    "             xlim=0, ylim=[0, 1], color='k', grid=True)\n",
    "    \n",
    "    plt.title('Empirical Distribution Function', fontsize=17,  fontweight='bold')\n",
    "    plt.xlabel('Sample', fontsize=12, fontweight='bold')\n",
    "    \n",
    "    plt.show()"
   ]
  },
  {
   "cell_type": "code",
   "execution_count": 8,
   "metadata": {},
   "outputs": [],
   "source": [
    "def visualize_hist_from_df(df, col):\n",
    "    \"\"\"\n",
    "    Эта функция рисует гистограмму\n",
    "    \n",
    "    :параметр: df - таблица с данными pd.DataFrame\n",
    "    :параметр: column - название колонки, для \n",
    "                        которой будет построена гистограмма\n",
    "                        \n",
    "    :return: ничего не возвращает\n",
    "    \n",
    "    \"\"\"\n",
    "    \n",
    "    k = 1 + int(round(np.log2(df.shape[0])))\n",
    "    \n",
    "    df[[col]].hist(bins=k, figsize=(length, width))\n",
    "    \n",
    "    plt.title('Histogram', fontsize=17,  fontweight='bold')\n",
    "    \n",
    "    plt.show()"
   ]
  },
  {
   "cell_type": "code",
   "execution_count": 9,
   "metadata": {},
   "outputs": [],
   "source": [
    "def calculate_normal_distribution(mean=0, disp=1):\n",
    "    \"\"\"\n",
    "    Эта функция считает нормальное распределение\n",
    "    \n",
    "    :параметр: mean - математическое ожидание\n",
    "    :параметр: disp - дисперсия\n",
    "    \n",
    "    :return: np.arrays - значения по x и y\n",
    "    \n",
    "    \"\"\"\n",
    "    \n",
    "    try:\n",
    "        x = np.linspace(-10, 10, 10000)\n",
    "        \n",
    "        y = np.exp((-1) * (x - mean) ** 2 / (2 * disp))\n",
    "        y = y / (np.sqrt(disp * 2 * np.pi))\n",
    "        \n",
    "        return x, y\n",
    "    \n",
    "    except ZeroDivisionError:\n",
    "        print('ZeroDivisionError: disp = 0')"
   ]
  },
  {
   "cell_type": "code",
   "execution_count": 10,
   "metadata": {},
   "outputs": [],
   "source": [
    "def visualize_normal_distribution(mean=0, disp=1):\n",
    "    \"\"\"\n",
    "    Эта функция рисует нормальное распределение\n",
    "    \n",
    "    :параметр: mean - математическое ожидание\n",
    "    :параметр: disp - дисперсия\n",
    "    \n",
    "    :return: ничего не возвращает\n",
    "    \n",
    "    \"\"\"\n",
    "    \n",
    "    x, y = calculate_normal_distribution(mean, disp)\n",
    "    \n",
    "    fig, ax = plt.subplots(figsize=(length, width))\n",
    "    \n",
    "    ax.plot(x, y, color='b', label=f'd = {round(disp, 2)}, <x> = {round(mean, 2)}')\n",
    "    \n",
    "    ax.set_title('Normal Distribution', fontsize=20, fontweight='bold')\n",
    "    ax.set_xlabel('Amount', fontsize=11, fontweight='bold')\n",
    "    ax.set_xlim(x.min(), x.max())\n",
    "    ax.set_xticks(np.linspace(-10, 10, 11))\n",
    "        \n",
    "    ax.legend()\n",
    "    ax.grid()"
   ]
  },
  {
   "cell_type": "markdown",
   "metadata": {},
   "source": [
    "## Пункт 0. Генерации выборки и получение вариационного ряда."
   ]
  },
  {
   "cell_type": "code",
   "execution_count": 11,
   "metadata": {},
   "outputs": [],
   "source": [
    "sample = pd.read_csv('expovariate.csv')        # выборка\n",
    "row = sample.sort_values(by=['sample'])        # вариационный ряд"
   ]
  },
  {
   "cell_type": "markdown",
   "metadata": {},
   "source": [
    "## Пункт 1. Анализ вариационного ряда."
   ]
  },
  {
   "cell_type": "markdown",
   "metadata": {},
   "source": [
    "**Задание**: определить моду, медиану, размах, коэффициент асимметрии."
   ]
  },
  {
   "cell_type": "markdown",
   "metadata": {},
   "source": [
    "Непосредственно, вариационный ряд: "
   ]
  },
  {
   "cell_type": "code",
   "execution_count": 12,
   "metadata": {},
   "outputs": [
    {
     "data": {
      "text/html": [
       "<div>\n",
       "<style scoped>\n",
       "    .dataframe tbody tr th:only-of-type {\n",
       "        vertical-align: middle;\n",
       "    }\n",
       "\n",
       "    .dataframe tbody tr th {\n",
       "        vertical-align: top;\n",
       "    }\n",
       "\n",
       "    .dataframe thead th {\n",
       "        text-align: right;\n",
       "    }\n",
       "</style>\n",
       "<table border=\"1\" class=\"dataframe\">\n",
       "  <thead>\n",
       "    <tr style=\"text-align: right;\">\n",
       "      <th></th>\n",
       "      <th>sample</th>\n",
       "    </tr>\n",
       "  </thead>\n",
       "  <tbody>\n",
       "    <tr>\n",
       "      <th>0</th>\n",
       "      <td>0.010549</td>\n",
       "    </tr>\n",
       "    <tr>\n",
       "      <th>1</th>\n",
       "      <td>0.143237</td>\n",
       "    </tr>\n",
       "    <tr>\n",
       "      <th>2</th>\n",
       "      <td>0.161263</td>\n",
       "    </tr>\n",
       "    <tr>\n",
       "      <th>3</th>\n",
       "      <td>0.235398</td>\n",
       "    </tr>\n",
       "    <tr>\n",
       "      <th>4</th>\n",
       "      <td>0.249374</td>\n",
       "    </tr>\n",
       "    <tr>\n",
       "      <th>5</th>\n",
       "      <td>0.254925</td>\n",
       "    </tr>\n",
       "    <tr>\n",
       "      <th>6</th>\n",
       "      <td>0.286301</td>\n",
       "    </tr>\n",
       "    <tr>\n",
       "      <th>7</th>\n",
       "      <td>0.322800</td>\n",
       "    </tr>\n",
       "    <tr>\n",
       "      <th>8</th>\n",
       "      <td>0.386682</td>\n",
       "    </tr>\n",
       "    <tr>\n",
       "      <th>9</th>\n",
       "      <td>0.419880</td>\n",
       "    </tr>\n",
       "    <tr>\n",
       "      <th>10</th>\n",
       "      <td>0.561945</td>\n",
       "    </tr>\n",
       "    <tr>\n",
       "      <th>11</th>\n",
       "      <td>0.644257</td>\n",
       "    </tr>\n",
       "    <tr>\n",
       "      <th>12</th>\n",
       "      <td>0.719867</td>\n",
       "    </tr>\n",
       "    <tr>\n",
       "      <th>13</th>\n",
       "      <td>0.732788</td>\n",
       "    </tr>\n",
       "    <tr>\n",
       "      <th>14</th>\n",
       "      <td>0.801497</td>\n",
       "    </tr>\n",
       "    <tr>\n",
       "      <th>15</th>\n",
       "      <td>0.921933</td>\n",
       "    </tr>\n",
       "    <tr>\n",
       "      <th>16</th>\n",
       "      <td>1.000060</td>\n",
       "    </tr>\n",
       "    <tr>\n",
       "      <th>17</th>\n",
       "      <td>1.056640</td>\n",
       "    </tr>\n",
       "    <tr>\n",
       "      <th>18</th>\n",
       "      <td>1.410777</td>\n",
       "    </tr>\n",
       "    <tr>\n",
       "      <th>19</th>\n",
       "      <td>1.659781</td>\n",
       "    </tr>\n",
       "    <tr>\n",
       "      <th>20</th>\n",
       "      <td>1.718913</td>\n",
       "    </tr>\n",
       "    <tr>\n",
       "      <th>21</th>\n",
       "      <td>2.138410</td>\n",
       "    </tr>\n",
       "    <tr>\n",
       "      <th>22</th>\n",
       "      <td>2.237969</td>\n",
       "    </tr>\n",
       "    <tr>\n",
       "      <th>23</th>\n",
       "      <td>2.954414</td>\n",
       "    </tr>\n",
       "    <tr>\n",
       "      <th>24</th>\n",
       "      <td>3.120732</td>\n",
       "    </tr>\n",
       "  </tbody>\n",
       "</table>\n",
       "</div>"
      ],
      "text/plain": [
       "      sample\n",
       "0   0.010549\n",
       "1   0.143237\n",
       "2   0.161263\n",
       "3   0.235398\n",
       "4   0.249374\n",
       "5   0.254925\n",
       "6   0.286301\n",
       "7   0.322800\n",
       "8   0.386682\n",
       "9   0.419880\n",
       "10  0.561945\n",
       "11  0.644257\n",
       "12  0.719867\n",
       "13  0.732788\n",
       "14  0.801497\n",
       "15  0.921933\n",
       "16  1.000060\n",
       "17  1.056640\n",
       "18  1.410777\n",
       "19  1.659781\n",
       "20  1.718913\n",
       "21  2.138410\n",
       "22  2.237969\n",
       "23  2.954414\n",
       "24  3.120732"
      ]
     },
     "execution_count": 12,
     "metadata": {},
     "output_type": "execute_result"
    }
   ],
   "source": [
    "row"
   ]
  },
  {
   "cell_type": "code",
   "execution_count": 13,
   "metadata": {},
   "outputs": [],
   "source": [
    "row_describe = row.describe()"
   ]
  },
  {
   "cell_type": "markdown",
   "metadata": {},
   "source": [
    "### Определение моды:"
   ]
  },
  {
   "cell_type": "code",
   "execution_count": 14,
   "metadata": {},
   "outputs": [
    {
     "data": {
      "text/html": [
       "<div>\n",
       "<style scoped>\n",
       "    .dataframe tbody tr th:only-of-type {\n",
       "        vertical-align: middle;\n",
       "    }\n",
       "\n",
       "    .dataframe tbody tr th {\n",
       "        vertical-align: top;\n",
       "    }\n",
       "\n",
       "    .dataframe thead th {\n",
       "        text-align: right;\n",
       "    }\n",
       "</style>\n",
       "<table border=\"1\" class=\"dataframe\">\n",
       "  <thead>\n",
       "    <tr style=\"text-align: right;\">\n",
       "      <th></th>\n",
       "      <th>sample</th>\n",
       "    </tr>\n",
       "  </thead>\n",
       "  <tbody>\n",
       "    <tr>\n",
       "      <th>0</th>\n",
       "      <td>0.010549</td>\n",
       "    </tr>\n",
       "    <tr>\n",
       "      <th>1</th>\n",
       "      <td>0.143237</td>\n",
       "    </tr>\n",
       "    <tr>\n",
       "      <th>2</th>\n",
       "      <td>0.161263</td>\n",
       "    </tr>\n",
       "    <tr>\n",
       "      <th>3</th>\n",
       "      <td>0.235398</td>\n",
       "    </tr>\n",
       "    <tr>\n",
       "      <th>4</th>\n",
       "      <td>0.249374</td>\n",
       "    </tr>\n",
       "    <tr>\n",
       "      <th>5</th>\n",
       "      <td>0.254925</td>\n",
       "    </tr>\n",
       "    <tr>\n",
       "      <th>6</th>\n",
       "      <td>0.286301</td>\n",
       "    </tr>\n",
       "    <tr>\n",
       "      <th>7</th>\n",
       "      <td>0.322800</td>\n",
       "    </tr>\n",
       "    <tr>\n",
       "      <th>8</th>\n",
       "      <td>0.386682</td>\n",
       "    </tr>\n",
       "    <tr>\n",
       "      <th>9</th>\n",
       "      <td>0.419880</td>\n",
       "    </tr>\n",
       "    <tr>\n",
       "      <th>10</th>\n",
       "      <td>0.561945</td>\n",
       "    </tr>\n",
       "    <tr>\n",
       "      <th>11</th>\n",
       "      <td>0.644257</td>\n",
       "    </tr>\n",
       "    <tr>\n",
       "      <th>12</th>\n",
       "      <td>0.719867</td>\n",
       "    </tr>\n",
       "    <tr>\n",
       "      <th>13</th>\n",
       "      <td>0.732788</td>\n",
       "    </tr>\n",
       "    <tr>\n",
       "      <th>14</th>\n",
       "      <td>0.801497</td>\n",
       "    </tr>\n",
       "    <tr>\n",
       "      <th>15</th>\n",
       "      <td>0.921933</td>\n",
       "    </tr>\n",
       "    <tr>\n",
       "      <th>16</th>\n",
       "      <td>1.000060</td>\n",
       "    </tr>\n",
       "    <tr>\n",
       "      <th>17</th>\n",
       "      <td>1.056640</td>\n",
       "    </tr>\n",
       "    <tr>\n",
       "      <th>18</th>\n",
       "      <td>1.410777</td>\n",
       "    </tr>\n",
       "    <tr>\n",
       "      <th>19</th>\n",
       "      <td>1.659781</td>\n",
       "    </tr>\n",
       "    <tr>\n",
       "      <th>20</th>\n",
       "      <td>1.718913</td>\n",
       "    </tr>\n",
       "    <tr>\n",
       "      <th>21</th>\n",
       "      <td>2.138410</td>\n",
       "    </tr>\n",
       "    <tr>\n",
       "      <th>22</th>\n",
       "      <td>2.237969</td>\n",
       "    </tr>\n",
       "    <tr>\n",
       "      <th>23</th>\n",
       "      <td>2.954414</td>\n",
       "    </tr>\n",
       "    <tr>\n",
       "      <th>24</th>\n",
       "      <td>3.120732</td>\n",
       "    </tr>\n",
       "  </tbody>\n",
       "</table>\n",
       "</div>"
      ],
      "text/plain": [
       "      sample\n",
       "0   0.010549\n",
       "1   0.143237\n",
       "2   0.161263\n",
       "3   0.235398\n",
       "4   0.249374\n",
       "5   0.254925\n",
       "6   0.286301\n",
       "7   0.322800\n",
       "8   0.386682\n",
       "9   0.419880\n",
       "10  0.561945\n",
       "11  0.644257\n",
       "12  0.719867\n",
       "13  0.732788\n",
       "14  0.801497\n",
       "15  0.921933\n",
       "16  1.000060\n",
       "17  1.056640\n",
       "18  1.410777\n",
       "19  1.659781\n",
       "20  1.718913\n",
       "21  2.138410\n",
       "22  2.237969\n",
       "23  2.954414\n",
       "24  3.120732"
      ]
     },
     "execution_count": 14,
     "metadata": {},
     "output_type": "execute_result"
    }
   ],
   "source": [
    "row.mode()"
   ]
  },
  {
   "cell_type": "markdown",
   "metadata": {},
   "source": [
    "**Вывод**: в выборке отсутствуют повторяющиеся элементы. "
   ]
  },
  {
   "cell_type": "markdown",
   "metadata": {},
   "source": [
    "### Определение медианы:"
   ]
  },
  {
   "cell_type": "code",
   "execution_count": 15,
   "metadata": {},
   "outputs": [
    {
     "data": {
      "text/plain": [
       "sample    0.719867\n",
       "dtype: float64"
      ]
     },
     "execution_count": 15,
     "metadata": {},
     "output_type": "execute_result"
    }
   ],
   "source": [
    "row.median()"
   ]
  },
  {
   "cell_type": "markdown",
   "metadata": {},
   "source": [
    "**Вывод**: $ med = 0.719867 $"
   ]
  },
  {
   "cell_type": "markdown",
   "metadata": {},
   "source": [
    "### Определение размаха:"
   ]
  },
  {
   "cell_type": "code",
   "execution_count": 16,
   "metadata": {},
   "outputs": [
    {
     "name": "stdout",
     "output_type": "stream",
     "text": [
      "range = 3.11\n"
     ]
    }
   ],
   "source": [
    "rng = row_describe.loc['max', 'sample'] - row_describe.loc['min', 'sample']\n",
    "\n",
    "print(f'range = {round(rng, 3)}')"
   ]
  },
  {
   "cell_type": "markdown",
   "metadata": {},
   "source": [
    "**Вывод**: $ range \\approx 3.11 $"
   ]
  },
  {
   "cell_type": "markdown",
   "metadata": {},
   "source": [
    "### Определение коэффициента асимметрии:"
   ]
  },
  {
   "cell_type": "code",
   "execution_count": 17,
   "metadata": {},
   "outputs": [
    {
     "name": "stdout",
     "output_type": "stream",
     "text": [
      "skew = 1.141\n",
      "skew_correct = 1.216\n"
     ]
    }
   ],
   "source": [
    "arr = row.loc[:, 'sample'].to_numpy(dtype='float64')\n",
    "\n",
    "skew = st.skew(arr, bias=True)\n",
    "skew_correct = st.skew(arr, bias=False)\n",
    "\n",
    "print(f'skew = {round(skew, 3)}')\n",
    "print(f'skew_correct = {round(skew_correct, 3)}')"
   ]
  },
  {
   "cell_type": "markdown",
   "metadata": {},
   "source": [
    "**Выводы**:\n",
    "\n",
    "1. $ \\gamma = 1.141 $ - не нормированная величина\n",
    "2. $ \\gamma_n = 1.216 $ - нормированная величина\n",
    "3. $ \\gamma > 0 => $ перевес и \"пологость\" справа, что соответствует экспоненциальному закону"
   ]
  },
  {
   "cell_type": "markdown",
   "metadata": {},
   "source": [
    "### Построение boxplot."
   ]
  },
  {
   "cell_type": "code",
   "execution_count": 18,
   "metadata": {},
   "outputs": [
    {
     "data": {
      "image/png": "[encoded data removed]",
      "text/plain": [
       "<Figure size 921.6x691.2 with 1 Axes>"
      ]
     },
     "metadata": {
      "needs_background": "light"
     },
     "output_type": "display_data"
    }
   ],
   "source": [
    "visualize_boxplot_from_df(row, 'sample')"
   ]
  },
  {
   "cell_type": "markdown",
   "metadata": {},
   "source": [
    "## Пункт 2. Эмпирическая функция распределения и Гистограмма."
   ]
  },
  {
   "cell_type": "markdown",
   "metadata": {},
   "source": [
    "**Задание**: построить эмпирическую функцию распределения и гистограмму. "
   ]
  },
  {
   "cell_type": "markdown",
   "metadata": {},
   "source": [
    "### Построение эмпирической функции распределения."
   ]
  },
  {
   "cell_type": "code",
   "execution_count": 19,
   "metadata": {},
   "outputs": [
    {
     "data": {
      "image/png": "[encoded data removed]",
      "text/plain": [
       "<Figure size 921.6x691.2 with 1 Axes>"
      ]
     },
     "metadata": {
      "needs_background": "light"
     },
     "output_type": "display_data"
    }
   ],
   "source": [
    "visualize_edf_from_df(row, 'sample')"
   ]
  },
  {
   "cell_type": "markdown",
   "metadata": {},
   "source": [
    "### Построение гистограммы. "
   ]
  },
  {
   "cell_type": "code",
   "execution_count": 20,
   "metadata": {},
   "outputs": [
    {
     "data": {
      "image/png": "[encoded data removed]",
      "text/plain": [
       "<Figure size 921.6x691.2 with 1 Axes>"
      ]
     },
     "metadata": {
      "needs_background": "light"
     },
     "output_type": "display_data"
    }
   ],
   "source": [
    "visualize_hist_from_df(row, 'sample')"
   ]
  },
  {
   "cell_type": "markdown",
   "metadata": {},
   "source": [
    "*Примечание*: гистограмма отрисована в относительных единицах, необходима нормировка на $ \\frac{1}{N\\Delta_i} = 0.08 $."
   ]
  },
  {
   "cell_type": "markdown",
   "metadata": {},
   "source": [
    "## Пункт 3. Ядерная оценка плотности распределения."
   ]
  },
  {
   "cell_type": "markdown",
   "metadata": {},
   "source": [
    "### Функции для построения плотности: "
   ]
  },
  {
   "cell_type": "code",
   "execution_count": 21,
   "metadata": {},
   "outputs": [],
   "source": [
    "def calculate_core(x):\n",
    "    \n",
    "    if abs(x) <= 1:\n",
    "        \n",
    "        return 0.75 * (1 - x ** 2)\n",
    "    \n",
    "    return 0"
   ]
  },
  {
   "cell_type": "code",
   "execution_count": 22,
   "metadata": {},
   "outputs": [],
   "source": [
    "def calculate_dispersion(arr):\n",
    "    \n",
    "    mean = np.mean(arr)\n",
    "    \n",
    "    return np.sum((arr - mean) ** 2) / (len(arr) - 1)"
   ]
  },
  {
   "cell_type": "code",
   "execution_count": 23,
   "metadata": {},
   "outputs": [],
   "source": [
    "def calculate_h(arr):\n",
    "    \n",
    "    if len(arr) == 0:\n",
    "        \n",
    "        return 0\n",
    "    \n",
    "    s = np.sqrt(calculate_dispersion(arr))\n",
    "    \n",
    "    return 1.06 * s / (len(arr)) ** (0.2)"
   ]
  },
  {
   "cell_type": "code",
   "execution_count": 24,
   "metadata": {},
   "outputs": [],
   "source": [
    "def calculate_density(sample):\n",
    "    \n",
    "    seq = np.linspace(-1, 5, 10000)\n",
    "    res = np.array([0 for i in range(10000)])\n",
    "    \n",
    "    h = calculate_h(sample)\n",
    "    \n",
    "    for xi in sample:\n",
    "        \n",
    "        seqi = (seq - xi) / h\n",
    "        qi = [calculate_core(x) for x in seqi]\n",
    "        res = res + np.array(qi)\n",
    "        \n",
    "    res = res / (len(sample) * h)\n",
    "        \n",
    "    return seq, res"
   ]
  },
  {
   "cell_type": "markdown",
   "metadata": {},
   "source": [
    "### Непосредственно построение."
   ]
  },
  {
   "cell_type": "code",
   "execution_count": 33,
   "metadata": {},
   "outputs": [
    {
     "data": {
      "image/png": "[encoded data removed]",
      "text/plain": [
       "<Figure size 921.6x691.2 with 1 Axes>"
      ]
     },
     "metadata": {
      "needs_background": "light"
     },
     "output_type": "display_data"
    }
   ],
   "source": [
    "data = pd.read_csv('expovariate.csv')\n",
    "\n",
    "sample = data.loc[:, 'sample'].to_numpy()\n",
    "\n",
    "fig, ax = plt.subplots(figsize=(12.8, 9.6))\n",
    "\n",
    "x, y = calculate_density(sample)\n",
    "ex = np.linspace(0, 5, 10000)\n",
    "\n",
    "ax.plot(x, y, color='b', label='nuclear estimate')\n",
    "ax.plot(ex, np.e ** (-ex), color='r', linestyle='dashed', label='theory')\n",
    "\n",
    "ax.set_xlim(-1, 5)\n",
    "ax.set_ylim(0, 1)\n",
    "\n",
    "plt.legend()\n",
    "plt.grid()\n",
    "plt.show()"
   ]
  },
  {
   "cell_type": "markdown",
   "metadata": {},
   "source": [
    "## Пункт 4. Построение эмпирической функции распределения и гистограммы."
   ]
  },
  {
   "cell_type": "markdown",
   "metadata": {},
   "source": [
    "**Задание**: определить плотность распределения среднего арифметического элементов выборки. Сравнить с бутстраповской оценкой плотности. "
   ]
  },
  {
   "cell_type": "markdown",
   "metadata": {},
   "source": [
    "### Определение плотности распределения. "
   ]
  },
  {
   "cell_type": "markdown",
   "metadata": {},
   "source": [
    "Из ЦПТ Ляпунова и асимптотической оценки $ => $ $ \\overline{x} \\sim N(M[\\xi], \\frac{D[\\xi]}{n})$"
   ]
  },
  {
   "cell_type": "markdown",
   "metadata": {},
   "source": [
    "Некоторые статистики вариационного ряда:"
   ]
  },
  {
   "cell_type": "code",
   "execution_count": 26,
   "metadata": {},
   "outputs": [
    {
     "data": {
      "text/html": [
       "<div>\n",
       "<style scoped>\n",
       "    .dataframe tbody tr th:only-of-type {\n",
       "        vertical-align: middle;\n",
       "    }\n",
       "\n",
       "    .dataframe tbody tr th {\n",
       "        vertical-align: top;\n",
       "    }\n",
       "\n",
       "    .dataframe thead th {\n",
       "        text-align: right;\n",
       "    }\n",
       "</style>\n",
       "<table border=\"1\" class=\"dataframe\">\n",
       "  <thead>\n",
       "    <tr style=\"text-align: right;\">\n",
       "      <th></th>\n",
       "      <th>sample</th>\n",
       "    </tr>\n",
       "  </thead>\n",
       "  <tbody>\n",
       "    <tr>\n",
       "      <th>count</th>\n",
       "      <td>25.000000</td>\n",
       "    </tr>\n",
       "    <tr>\n",
       "      <th>mean</th>\n",
       "      <td>0.966016</td>\n",
       "    </tr>\n",
       "    <tr>\n",
       "      <th>std</th>\n",
       "      <td>0.879280</td>\n",
       "    </tr>\n",
       "    <tr>\n",
       "      <th>min</th>\n",
       "      <td>0.010549</td>\n",
       "    </tr>\n",
       "    <tr>\n",
       "      <th>25%</th>\n",
       "      <td>0.286301</td>\n",
       "    </tr>\n",
       "    <tr>\n",
       "      <th>50%</th>\n",
       "      <td>0.719867</td>\n",
       "    </tr>\n",
       "    <tr>\n",
       "      <th>75%</th>\n",
       "      <td>1.410777</td>\n",
       "    </tr>\n",
       "    <tr>\n",
       "      <th>max</th>\n",
       "      <td>3.120732</td>\n",
       "    </tr>\n",
       "  </tbody>\n",
       "</table>\n",
       "</div>"
      ],
      "text/plain": [
       "          sample\n",
       "count  25.000000\n",
       "mean    0.966016\n",
       "std     0.879280\n",
       "min     0.010549\n",
       "25%     0.286301\n",
       "50%     0.719867\n",
       "75%     1.410777\n",
       "max     3.120732"
      ]
     },
     "execution_count": 26,
     "metadata": {},
     "output_type": "execute_result"
    }
   ],
   "source": [
    "row_describe"
   ]
  },
  {
   "cell_type": "code",
   "execution_count": 27,
   "metadata": {},
   "outputs": [
    {
     "name": "stdout",
     "output_type": "stream",
     "text": [
      "Disp = 0.030925357780945736\n",
      "Mean = 0.96601568\n"
     ]
    }
   ],
   "source": [
    "mean = row_describe.loc['mean', 'sample']\n",
    "sigma = row_describe.loc['std', 'sample']\n",
    "disp = sigma ** 2 / row.shape[0]\n",
    "\n",
    "print(f'Disp = {disp}', f'Mean = {mean}', sep='\\n')"
   ]
  },
  {
   "cell_type": "markdown",
   "metadata": {},
   "source": [
    "**Вывод**: $ \\overline{x} \\sim N(0.97, 0.03)$"
   ]
  },
  {
   "cell_type": "code",
   "execution_count": 28,
   "metadata": {},
   "outputs": [
    {
     "data": {
      "image/png": "[encoded data removed]",
      "text/plain": [
       "<Figure size 921.6x691.2 with 1 Axes>"
      ]
     },
     "metadata": {
      "needs_background": "light"
     },
     "output_type": "display_data"
    }
   ],
   "source": [
    "visualize_normal_distribution(mean, disp)"
   ]
  },
  {
   "cell_type": "markdown",
   "metadata": {},
   "source": [
    "### Оценка плотности при помощи bootstrap."
   ]
  },
  {
   "cell_type": "code",
   "execution_count": 29,
   "metadata": {},
   "outputs": [
    {
     "data": {
      "image/png": "[encoded data removed]",
      "text/plain": [
       "<Figure size 921.6x691.2 with 1 Axes>"
      ]
     },
     "metadata": {
      "needs_background": "light"
     },
     "output_type": "display_data"
    }
   ],
   "source": [
    "smpl = row.loc[:, 'sample'].to_numpy()\n",
    "\n",
    "bt_mean = generate_bootstrap_sample(smpl, np.mean, bootsN)\n",
    "\n",
    "visualize_hist_from_df(bt_mean, 'sample')"
   ]
  },
  {
   "cell_type": "markdown",
   "metadata": {},
   "source": [
    "*Примечание*: гистограмма отрисована в относительных единицах, необходима домножение на $ \\frac{1}{N\\Delta_i} = 0.01 $."
   ]
  },
  {
   "cell_type": "markdown",
   "metadata": {},
   "source": [
    "## Пункт 5. Оценка плотности распределения коэффициента асимметрии."
   ]
  },
  {
   "cell_type": "markdown",
   "metadata": {},
   "source": [
    "**Задание**: найти bootstrap-оценку плотности распределения коэффициента асимметрии. "
   ]
  },
  {
   "cell_type": "code",
   "execution_count": 30,
   "metadata": {},
   "outputs": [
    {
     "data": {
      "image/png": "[encoded data removed]",
      "text/plain": [
       "<Figure size 921.6x691.2 with 1 Axes>"
      ]
     },
     "metadata": {
      "needs_background": "light"
     },
     "output_type": "display_data"
    }
   ],
   "source": [
    "smpl = row.loc[:, 'sample'].to_numpy()\n",
    "\n",
    "bt_skew = generate_bootstrap_sample(smpl, st.skew, bootsN)\n",
    "\n",
    "visualize_hist_from_df(bt_skew, 'sample')"
   ]
  },
  {
   "cell_type": "markdown",
   "metadata": {},
   "source": [
    "*Примечание*: гистограмма отрисована в относительных единицах, необходима домножение на $ \\frac{1}{N\\Delta_i} = 0.004 $."
   ]
  },
  {
   "cell_type": "code",
   "execution_count": null,
   "metadata": {},
   "outputs": [],
   "source": []
  }
 ],
 "metadata": {
  "kernelspec": {
   "display_name": "Python 3",
   "language": "python",
   "name": "python3"
  },
  "language_info": {
   "codemirror_mode": {
    "name": "ipython",
    "version": 3
   },
   "file_extension": ".py",
   "mimetype": "text/x-python",
   "name": "python",
   "nbconvert_exporter": "python",
   "pygments_lexer": "ipython3",
   "version": "3.8.3"
  }
 },
 "nbformat": 4,
 "nbformat_minor": 4
}
