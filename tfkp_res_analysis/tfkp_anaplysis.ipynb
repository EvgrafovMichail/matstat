{
 "cells": [
  {
   "cell_type": "markdown",
   "metadata": {},
   "source": [
    "# Анализ результатов семестровой работы по ТФКП. \n",
    "**Евграфов Михаил. Б03-913С2. 2021 год**"
   ]
  },
  {
   "cell_type": "markdown",
   "metadata": {},
   "source": [
    "## Содержание:\n",
    "\n",
    "1. Введение. \n",
    ">1.1 Постановка цели работы.  \n",
    ">1.2 Про Python.  \n",
    ">1.3 Используемые библиотеки.\n",
    "2. Разведочный анализ данных.\n",
    ">2.1 Считывание и подготовка данных.  \n",
    ">2.2 Boxplot.  \n",
    ">2.3 Числовое описание данных.  \n",
    ">2.4 Оценка плотности и построение эмпирической функции распределения."
   ]
  },
  {
   "cell_type": "markdown",
   "metadata": {},
   "source": [
    "## Введение. "
   ]
  },
  {
   "cell_type": "markdown",
   "metadata": {},
   "source": [
    "#### Постановка цели работы.\n",
    "\n",
    "Традиционно в ноябре 3 курс МФТИ пишет семестровую контрольную работу по Теории Функции Комплексного Переменного. После получения результатов проведённой контрольной мною было решено провести их анализ, используя методы математической статистики. Итак, **целью** данной работы является анализ результатов семестровой контрольной работы по ТФКП в 2021 году на ФАЛТ(ИАЛТ) с помощью методов математической статистики. \n",
    "\n",
    "Для достижения данной цели я разделил работу на две смысловые части:\n",
    "\n",
    "- Проведение разведочного анализа данных.\n",
    "- Проверка статистических гипотез. \n",
    "\n",
    "Выполнение каждой из этих частей было также разбито на ряд подзадач, формулировка и выполнение которых представлена ниже. \n",
    "\n",
    "#### Про Python.\n",
    "\n",
    "Для выполнения поставленных задач я предпочёл использовать Python, поскольку этот язык программировани обладает большим количесвтом библиотек, сильно упрощающих обработку и визуализации данных. "
   ]
  },
  {
   "cell_type": "markdown",
   "metadata": {},
   "source": [
    "#### Используемы библиотеки."
   ]
  },
  {
   "cell_type": "code",
   "execution_count": 1,
   "metadata": {},
   "outputs": [],
   "source": [
    "import matplotlib.pyplot as plt\n",
    "import scipy.stats as sps\n",
    "import seaborn as sns\n",
    "import pandas as pd\n",
    "import numpy as np"
   ]
  },
  {
   "cell_type": "markdown",
   "metadata": {},
   "source": [
    "`matplotlib.pyplot` - используется для визуализации большинства графиков;  \n",
    "`scipy.stats` - библиотека с научными расчётами в сфере математической статистики;  \n",
    "`seqborn` - используется для визуализации *boxplot*;  \n",
    "`pandas` - библиотека для работы с таблицами и базами данных;  \n",
    "`numpy` - библиотека для научных расчётов и работ с матрицами.\n",
    "___"
   ]
  },
  {
   "cell_type": "markdown",
   "metadata": {},
   "source": [
    "## Разведочный анализ данных."
   ]
  },
  {
   "cell_type": "markdown",
   "metadata": {},
   "source": [
    "В данном разделе будет приведён разведовательный анализ данных. Из логических соображений, анализ был разбит на 4 шага:\n",
    "\n",
    "- Считывание и подготовка данных;\n",
    "- Построение boxplot для выявления выбросов;\n",
    "- Числовое описание данных(вычисление размаха, моды, медианы, коэффициента ассиметрии, среднего значения);\n",
    "- Оценка плотности и построение эмпирической функции распределения. \n",
    "\n",
    "Для выполнения обозначенных шагов нам потребуются некоторые вспомогательные функции, облегчающие визуализацию данных. "
   ]
  },
  {
   "cell_type": "markdown",
   "metadata": {},
   "source": [
    "### Вспомогательные функции:"
   ]
  },
  {
   "cell_type": "markdown",
   "metadata": {},
   "source": [
    "**Вычислительные:**"
   ]
  },
  {
   "cell_type": "code",
   "execution_count": 2,
   "metadata": {},
   "outputs": [],
   "source": [
    "def get_values_probs(df, column):\n",
    "    \n",
    "    sorted_data = df.sort_values(column)\n",
    "    unique_data = sorted_data.drop_duplicates(column)\n",
    "    unique_data = unique_data[column].to_numpy()\n",
    "    \n",
    "    freqs = sorted_data[column].value_counts(normalize=True, sort=False)\n",
    "    freqs = freqs.to_numpy()\n",
    "    \n",
    "    probs = np.cumsum(freqs)\n",
    "    \n",
    "    unique_data = np.append(unique_data, unique_data.max() + 1)\n",
    "    probs = np.append(probs, 1)\n",
    "    \n",
    "    return unique_data, probs"
   ]
  },
  {
   "cell_type": "markdown",
   "metadata": {},
   "source": [
    "**Графические:**"
   ]
  },
  {
   "cell_type": "code",
   "execution_count": 3,
   "metadata": {},
   "outputs": [],
   "source": [
    "def show_boxplot(df, column):\n",
    "    \n",
    "    rng = df[column].max() - df[column].min()\n",
    "    \n",
    "    plt.figure(figsize=(rng, 1))\n",
    "    plt.title('Boxplot', fontsize=15, fontweight='bold')\n",
    "    \n",
    "    sns.boxplot(data.loc[:, column], color='pink', saturation=0.5)\n",
    "    \n",
    "    plt.xlabel(column, fontsize=10, fontweight='bold')\n",
    "    plt.grid()\n",
    "    \n",
    "    plt.show()"
   ]
  },
  {
   "cell_type": "code",
   "execution_count": 4,
   "metadata": {},
   "outputs": [],
   "source": [
    "def show_hist(df, column):\n",
    "    \n",
    "    k = int(round(1 + np.log(len(df[column]))))\n",
    "    \n",
    "    sample = data[column].to_numpy()\n",
    "    \n",
    "    fig, ax = plt.subplots(figsize=(12.4, 9.6))\n",
    "    \n",
    "    ax.set_title('Histogram', fontsize=20, fontweight='bold')\n",
    "    ax.set_xlabel(column, fontsize=15, fontweight='bold')\n",
    "    \n",
    "    ax.hist(sample, bins=k, color='b', density=True)\n",
    "    \n",
    "    ax.grid()\n",
    "    \n",
    "    plt.show()"
   ]
  },
  {
   "cell_type": "code",
   "execution_count": 5,
   "metadata": {},
   "outputs": [],
   "source": [
    "def show_edf(df, column):\n",
    "    \n",
    "    values, probs = get_values_probs(df, column)\n",
    "    \n",
    "    fig, ax = plt.subplots(figsize=(12.4, 9.6))\n",
    "    \n",
    "    ax.set_title('EDF', fontsize=20, fontweight='bold')\n",
    "    ax.set_xlabel(column, fontsize=15, fontweight='bold')\n",
    "    ax.set_ylabel('Probability', fontsize=15, fontweight='bold')\n",
    "    \n",
    "    ax.step(values, probs, color='b', where='post')\n",
    "    \n",
    "    ax.set_xlim(values.min(), values.max())\n",
    "    ax.set_ylim(0, 1.1)\n",
    "    \n",
    "    ax.grid()\n",
    "    \n",
    "    plt.show()"
   ]
  },
  {
   "cell_type": "markdown",
   "metadata": {},
   "source": [
    "### Пункт 1. Считывание и подготовка данных. "
   ]
  },
  {
   "cell_type": "code",
   "execution_count": 6,
   "metadata": {},
   "outputs": [],
   "source": [
    "data = pd.read_excel('var3.xlsx')"
   ]
  },
  {
   "cell_type": "markdown",
   "metadata": {},
   "source": [
    "Посмотрим на наши данные."
   ]
  },
  {
   "cell_type": "code",
   "execution_count": 7,
   "metadata": {},
   "outputs": [
    {
     "data": {
      "text/html": [
       "<div>\n",
       "<style scoped>\n",
       "    .dataframe tbody tr th:only-of-type {\n",
       "        vertical-align: middle;\n",
       "    }\n",
       "\n",
       "    .dataframe tbody tr th {\n",
       "        vertical-align: top;\n",
       "    }\n",
       "\n",
       "    .dataframe thead th {\n",
       "        text-align: right;\n",
       "    }\n",
       "</style>\n",
       "<table border=\"1\" class=\"dataframe\">\n",
       "  <thead>\n",
       "    <tr style=\"text-align: right;\">\n",
       "      <th></th>\n",
       "      <th>Surname</th>\n",
       "      <th>Group</th>\n",
       "      <th>1</th>\n",
       "      <th>2</th>\n",
       "      <th>3</th>\n",
       "      <th>4</th>\n",
       "      <th>5</th>\n",
       "      <th>6</th>\n",
       "      <th>Sum</th>\n",
       "    </tr>\n",
       "  </thead>\n",
       "  <tbody>\n",
       "    <tr>\n",
       "      <th>0</th>\n",
       "      <td>Евгарфов</td>\n",
       "      <td>Б03-913</td>\n",
       "      <td>2.0</td>\n",
       "      <td>3.0</td>\n",
       "      <td>3.0</td>\n",
       "      <td>2</td>\n",
       "      <td>4.0</td>\n",
       "      <td>1.5</td>\n",
       "      <td>15.5</td>\n",
       "    </tr>\n",
       "    <tr>\n",
       "      <th>1</th>\n",
       "      <td>Касаткин</td>\n",
       "      <td>Б03-914</td>\n",
       "      <td>0.0</td>\n",
       "      <td>3.0</td>\n",
       "      <td>0.5</td>\n",
       "      <td>1</td>\n",
       "      <td>3.0</td>\n",
       "      <td>1.5</td>\n",
       "      <td>9.0</td>\n",
       "    </tr>\n",
       "    <tr>\n",
       "      <th>2</th>\n",
       "      <td>Ахметов</td>\n",
       "      <td>Б03-914</td>\n",
       "      <td>0.5</td>\n",
       "      <td>3.0</td>\n",
       "      <td>1.0</td>\n",
       "      <td>2</td>\n",
       "      <td>4.0</td>\n",
       "      <td>2.0</td>\n",
       "      <td>12.5</td>\n",
       "    </tr>\n",
       "    <tr>\n",
       "      <th>3</th>\n",
       "      <td>Каримов</td>\n",
       "      <td>Б03-915</td>\n",
       "      <td>2.0</td>\n",
       "      <td>3.0</td>\n",
       "      <td>3.0</td>\n",
       "      <td>2</td>\n",
       "      <td>3.0</td>\n",
       "      <td>4.0</td>\n",
       "      <td>17.0</td>\n",
       "    </tr>\n",
       "    <tr>\n",
       "      <th>4</th>\n",
       "      <td>Чижма</td>\n",
       "      <td>Б03-915</td>\n",
       "      <td>2.0</td>\n",
       "      <td>0.0</td>\n",
       "      <td>2.0</td>\n",
       "      <td>0</td>\n",
       "      <td>3.0</td>\n",
       "      <td>0.0</td>\n",
       "      <td>7.0</td>\n",
       "    </tr>\n",
       "    <tr>\n",
       "      <th>5</th>\n",
       "      <td>Бобовский</td>\n",
       "      <td>Б03-915</td>\n",
       "      <td>0.0</td>\n",
       "      <td>3.0</td>\n",
       "      <td>1.0</td>\n",
       "      <td>1</td>\n",
       "      <td>0.0</td>\n",
       "      <td>0.0</td>\n",
       "      <td>5.0</td>\n",
       "    </tr>\n",
       "    <tr>\n",
       "      <th>6</th>\n",
       "      <td>Во Ван Чунг</td>\n",
       "      <td>Б03-911</td>\n",
       "      <td>1.5</td>\n",
       "      <td>2.5</td>\n",
       "      <td>0.5</td>\n",
       "      <td>1</td>\n",
       "      <td>4.0</td>\n",
       "      <td>0.5</td>\n",
       "      <td>10.0</td>\n",
       "    </tr>\n",
       "    <tr>\n",
       "      <th>7</th>\n",
       "      <td>Гробов</td>\n",
       "      <td>NaN</td>\n",
       "      <td>2.0</td>\n",
       "      <td>3.0</td>\n",
       "      <td>3.0</td>\n",
       "      <td>2</td>\n",
       "      <td>4.0</td>\n",
       "      <td>3.0</td>\n",
       "      <td>17.0</td>\n",
       "    </tr>\n",
       "    <tr>\n",
       "      <th>8</th>\n",
       "      <td>Иванов</td>\n",
       "      <td>Б03-912</td>\n",
       "      <td>1.5</td>\n",
       "      <td>3.0</td>\n",
       "      <td>0.5</td>\n",
       "      <td>1</td>\n",
       "      <td>3.0</td>\n",
       "      <td>3.0</td>\n",
       "      <td>12.0</td>\n",
       "    </tr>\n",
       "    <tr>\n",
       "      <th>9</th>\n",
       "      <td>Каракуша</td>\n",
       "      <td>Б03-912</td>\n",
       "      <td>2.0</td>\n",
       "      <td>3.0</td>\n",
       "      <td>0.5</td>\n",
       "      <td>2</td>\n",
       "      <td>3.0</td>\n",
       "      <td>0.0</td>\n",
       "      <td>10.5</td>\n",
       "    </tr>\n",
       "    <tr>\n",
       "      <th>10</th>\n",
       "      <td>Кудряшов</td>\n",
       "      <td>Б03-911</td>\n",
       "      <td>2.0</td>\n",
       "      <td>2.0</td>\n",
       "      <td>1.5</td>\n",
       "      <td>3</td>\n",
       "      <td>4.0</td>\n",
       "      <td>0.0</td>\n",
       "      <td>12.5</td>\n",
       "    </tr>\n",
       "    <tr>\n",
       "      <th>11</th>\n",
       "      <td>Патрацкий</td>\n",
       "      <td>Б03-913</td>\n",
       "      <td>1.5</td>\n",
       "      <td>3.0</td>\n",
       "      <td>1.5</td>\n",
       "      <td>3</td>\n",
       "      <td>4.0</td>\n",
       "      <td>4.0</td>\n",
       "      <td>17.0</td>\n",
       "    </tr>\n",
       "    <tr>\n",
       "      <th>12</th>\n",
       "      <td>Садилин</td>\n",
       "      <td>Б03-911</td>\n",
       "      <td>2.0</td>\n",
       "      <td>3.0</td>\n",
       "      <td>1.0</td>\n",
       "      <td>3</td>\n",
       "      <td>2.5</td>\n",
       "      <td>0.0</td>\n",
       "      <td>11.5</td>\n",
       "    </tr>\n",
       "    <tr>\n",
       "      <th>13</th>\n",
       "      <td>Федоров</td>\n",
       "      <td>Б03-911</td>\n",
       "      <td>1.5</td>\n",
       "      <td>0.0</td>\n",
       "      <td>1.0</td>\n",
       "      <td>0</td>\n",
       "      <td>1.0</td>\n",
       "      <td>0.0</td>\n",
       "      <td>3.5</td>\n",
       "    </tr>\n",
       "    <tr>\n",
       "      <th>14</th>\n",
       "      <td>Чернышев</td>\n",
       "      <td>Б03-912</td>\n",
       "      <td>2.0</td>\n",
       "      <td>3.0</td>\n",
       "      <td>3.0</td>\n",
       "      <td>3</td>\n",
       "      <td>3.0</td>\n",
       "      <td>0.0</td>\n",
       "      <td>14.0</td>\n",
       "    </tr>\n",
       "  </tbody>\n",
       "</table>\n",
       "</div>"
      ],
      "text/plain": [
       "        Surname    Group    1    2    3  4    5    6   Sum\n",
       "0      Евгарфов  Б03-913  2.0  3.0  3.0  2  4.0  1.5  15.5\n",
       "1      Касаткин  Б03-914  0.0  3.0  0.5  1  3.0  1.5   9.0\n",
       "2       Ахметов  Б03-914  0.5  3.0  1.0  2  4.0  2.0  12.5\n",
       "3       Каримов  Б03-915  2.0  3.0  3.0  2  3.0  4.0  17.0\n",
       "4         Чижма  Б03-915  2.0  0.0  2.0  0  3.0  0.0   7.0\n",
       "5     Бобовский  Б03-915  0.0  3.0  1.0  1  0.0  0.0   5.0\n",
       "6   Во Ван Чунг  Б03-911  1.5  2.5  0.5  1  4.0  0.5  10.0\n",
       "7        Гробов      NaN  2.0  3.0  3.0  2  4.0  3.0  17.0\n",
       "8        Иванов  Б03-912  1.5  3.0  0.5  1  3.0  3.0  12.0\n",
       "9      Каракуша  Б03-912  2.0  3.0  0.5  2  3.0  0.0  10.5\n",
       "10     Кудряшов  Б03-911  2.0  2.0  1.5  3  4.0  0.0  12.5\n",
       "11    Патрацкий  Б03-913  1.5  3.0  1.5  3  4.0  4.0  17.0\n",
       "12      Садилин  Б03-911  2.0  3.0  1.0  3  2.5  0.0  11.5\n",
       "13      Федоров  Б03-911  1.5  0.0  1.0  0  1.0  0.0   3.5\n",
       "14     Чернышев  Б03-912  2.0  3.0  3.0  3  3.0  0.0  14.0"
      ]
     },
     "execution_count": 7,
     "metadata": {},
     "output_type": "execute_result"
    }
   ],
   "source": [
    "data"
   ]
  },
  {
   "cell_type": "markdown",
   "metadata": {},
   "source": [
    "При пристальном анализе таблицы можно заметить, что 7 значение в колонке `Group` пропущено. Подняв необходимые документы или воспользовавшись социальными связями, можно было бы восполнить этот пробел. Но, т.к. исследование проходит в отрыве от наличия сторонних данных, нам следует избавиться от 7 строки, т.к. она может попортить наши данные или исказить итоговые результаты."
   ]
  },
  {
   "cell_type": "code",
   "execution_count": 8,
   "metadata": {},
   "outputs": [
    {
     "data": {
      "text/html": [
       "<div>\n",
       "<style scoped>\n",
       "    .dataframe tbody tr th:only-of-type {\n",
       "        vertical-align: middle;\n",
       "    }\n",
       "\n",
       "    .dataframe tbody tr th {\n",
       "        vertical-align: top;\n",
       "    }\n",
       "\n",
       "    .dataframe thead th {\n",
       "        text-align: right;\n",
       "    }\n",
       "</style>\n",
       "<table border=\"1\" class=\"dataframe\">\n",
       "  <thead>\n",
       "    <tr style=\"text-align: right;\">\n",
       "      <th></th>\n",
       "      <th>Surname</th>\n",
       "      <th>Group</th>\n",
       "      <th>1</th>\n",
       "      <th>2</th>\n",
       "      <th>3</th>\n",
       "      <th>4</th>\n",
       "      <th>5</th>\n",
       "      <th>6</th>\n",
       "      <th>Sum</th>\n",
       "    </tr>\n",
       "  </thead>\n",
       "  <tbody>\n",
       "    <tr>\n",
       "      <th>0</th>\n",
       "      <td>Евгарфов</td>\n",
       "      <td>Б03-913</td>\n",
       "      <td>2.0</td>\n",
       "      <td>3.0</td>\n",
       "      <td>3.0</td>\n",
       "      <td>2</td>\n",
       "      <td>4.0</td>\n",
       "      <td>1.5</td>\n",
       "      <td>15.5</td>\n",
       "    </tr>\n",
       "    <tr>\n",
       "      <th>1</th>\n",
       "      <td>Касаткин</td>\n",
       "      <td>Б03-914</td>\n",
       "      <td>0.0</td>\n",
       "      <td>3.0</td>\n",
       "      <td>0.5</td>\n",
       "      <td>1</td>\n",
       "      <td>3.0</td>\n",
       "      <td>1.5</td>\n",
       "      <td>9.0</td>\n",
       "    </tr>\n",
       "    <tr>\n",
       "      <th>2</th>\n",
       "      <td>Ахметов</td>\n",
       "      <td>Б03-914</td>\n",
       "      <td>0.5</td>\n",
       "      <td>3.0</td>\n",
       "      <td>1.0</td>\n",
       "      <td>2</td>\n",
       "      <td>4.0</td>\n",
       "      <td>2.0</td>\n",
       "      <td>12.5</td>\n",
       "    </tr>\n",
       "    <tr>\n",
       "      <th>3</th>\n",
       "      <td>Каримов</td>\n",
       "      <td>Б03-915</td>\n",
       "      <td>2.0</td>\n",
       "      <td>3.0</td>\n",
       "      <td>3.0</td>\n",
       "      <td>2</td>\n",
       "      <td>3.0</td>\n",
       "      <td>4.0</td>\n",
       "      <td>17.0</td>\n",
       "    </tr>\n",
       "    <tr>\n",
       "      <th>4</th>\n",
       "      <td>Чижма</td>\n",
       "      <td>Б03-915</td>\n",
       "      <td>2.0</td>\n",
       "      <td>0.0</td>\n",
       "      <td>2.0</td>\n",
       "      <td>0</td>\n",
       "      <td>3.0</td>\n",
       "      <td>0.0</td>\n",
       "      <td>7.0</td>\n",
       "    </tr>\n",
       "    <tr>\n",
       "      <th>5</th>\n",
       "      <td>Бобовский</td>\n",
       "      <td>Б03-915</td>\n",
       "      <td>0.0</td>\n",
       "      <td>3.0</td>\n",
       "      <td>1.0</td>\n",
       "      <td>1</td>\n",
       "      <td>0.0</td>\n",
       "      <td>0.0</td>\n",
       "      <td>5.0</td>\n",
       "    </tr>\n",
       "    <tr>\n",
       "      <th>6</th>\n",
       "      <td>Во Ван Чунг</td>\n",
       "      <td>Б03-911</td>\n",
       "      <td>1.5</td>\n",
       "      <td>2.5</td>\n",
       "      <td>0.5</td>\n",
       "      <td>1</td>\n",
       "      <td>4.0</td>\n",
       "      <td>0.5</td>\n",
       "      <td>10.0</td>\n",
       "    </tr>\n",
       "    <tr>\n",
       "      <th>8</th>\n",
       "      <td>Иванов</td>\n",
       "      <td>Б03-912</td>\n",
       "      <td>1.5</td>\n",
       "      <td>3.0</td>\n",
       "      <td>0.5</td>\n",
       "      <td>1</td>\n",
       "      <td>3.0</td>\n",
       "      <td>3.0</td>\n",
       "      <td>12.0</td>\n",
       "    </tr>\n",
       "    <tr>\n",
       "      <th>9</th>\n",
       "      <td>Каракуша</td>\n",
       "      <td>Б03-912</td>\n",
       "      <td>2.0</td>\n",
       "      <td>3.0</td>\n",
       "      <td>0.5</td>\n",
       "      <td>2</td>\n",
       "      <td>3.0</td>\n",
       "      <td>0.0</td>\n",
       "      <td>10.5</td>\n",
       "    </tr>\n",
       "    <tr>\n",
       "      <th>10</th>\n",
       "      <td>Кудряшов</td>\n",
       "      <td>Б03-911</td>\n",
       "      <td>2.0</td>\n",
       "      <td>2.0</td>\n",
       "      <td>1.5</td>\n",
       "      <td>3</td>\n",
       "      <td>4.0</td>\n",
       "      <td>0.0</td>\n",
       "      <td>12.5</td>\n",
       "    </tr>\n",
       "    <tr>\n",
       "      <th>11</th>\n",
       "      <td>Патрацкий</td>\n",
       "      <td>Б03-913</td>\n",
       "      <td>1.5</td>\n",
       "      <td>3.0</td>\n",
       "      <td>1.5</td>\n",
       "      <td>3</td>\n",
       "      <td>4.0</td>\n",
       "      <td>4.0</td>\n",
       "      <td>17.0</td>\n",
       "    </tr>\n",
       "    <tr>\n",
       "      <th>12</th>\n",
       "      <td>Садилин</td>\n",
       "      <td>Б03-911</td>\n",
       "      <td>2.0</td>\n",
       "      <td>3.0</td>\n",
       "      <td>1.0</td>\n",
       "      <td>3</td>\n",
       "      <td>2.5</td>\n",
       "      <td>0.0</td>\n",
       "      <td>11.5</td>\n",
       "    </tr>\n",
       "    <tr>\n",
       "      <th>13</th>\n",
       "      <td>Федоров</td>\n",
       "      <td>Б03-911</td>\n",
       "      <td>1.5</td>\n",
       "      <td>0.0</td>\n",
       "      <td>1.0</td>\n",
       "      <td>0</td>\n",
       "      <td>1.0</td>\n",
       "      <td>0.0</td>\n",
       "      <td>3.5</td>\n",
       "    </tr>\n",
       "    <tr>\n",
       "      <th>14</th>\n",
       "      <td>Чернышев</td>\n",
       "      <td>Б03-912</td>\n",
       "      <td>2.0</td>\n",
       "      <td>3.0</td>\n",
       "      <td>3.0</td>\n",
       "      <td>3</td>\n",
       "      <td>3.0</td>\n",
       "      <td>0.0</td>\n",
       "      <td>14.0</td>\n",
       "    </tr>\n",
       "  </tbody>\n",
       "</table>\n",
       "</div>"
      ],
      "text/plain": [
       "        Surname    Group    1    2    3  4    5    6   Sum\n",
       "0      Евгарфов  Б03-913  2.0  3.0  3.0  2  4.0  1.5  15.5\n",
       "1      Касаткин  Б03-914  0.0  3.0  0.5  1  3.0  1.5   9.0\n",
       "2       Ахметов  Б03-914  0.5  3.0  1.0  2  4.0  2.0  12.5\n",
       "3       Каримов  Б03-915  2.0  3.0  3.0  2  3.0  4.0  17.0\n",
       "4         Чижма  Б03-915  2.0  0.0  2.0  0  3.0  0.0   7.0\n",
       "5     Бобовский  Б03-915  0.0  3.0  1.0  1  0.0  0.0   5.0\n",
       "6   Во Ван Чунг  Б03-911  1.5  2.5  0.5  1  4.0  0.5  10.0\n",
       "8        Иванов  Б03-912  1.5  3.0  0.5  1  3.0  3.0  12.0\n",
       "9      Каракуша  Б03-912  2.0  3.0  0.5  2  3.0  0.0  10.5\n",
       "10     Кудряшов  Б03-911  2.0  2.0  1.5  3  4.0  0.0  12.5\n",
       "11    Патрацкий  Б03-913  1.5  3.0  1.5  3  4.0  4.0  17.0\n",
       "12      Садилин  Б03-911  2.0  3.0  1.0  3  2.5  0.0  11.5\n",
       "13      Федоров  Б03-911  1.5  0.0  1.0  0  1.0  0.0   3.5\n",
       "14     Чернышев  Б03-912  2.0  3.0  3.0  3  3.0  0.0  14.0"
      ]
     },
     "execution_count": 8,
     "metadata": {},
     "output_type": "execute_result"
    }
   ],
   "source": [
    "data = data.dropna()\n",
    "data"
   ]
  },
  {
   "cell_type": "markdown",
   "metadata": {},
   "source": [
    "В качестве наблюдаемой случайной величины возьмём сумму балов."
   ]
  },
  {
   "cell_type": "markdown",
   "metadata": {},
   "source": [
    "### Пункт 2. Boxplot."
   ]
  },
  {
   "cell_type": "code",
   "execution_count": 9,
   "metadata": {},
   "outputs": [
    {
     "data": {
      "image/png": "[encoded data removed]",
      "text/plain": [
       "<Figure size 972x72 with 1 Axes>"
      ]
     },
     "metadata": {
      "needs_background": "light"
     },
     "output_type": "display_data"
    }
   ],
   "source": [
    "show_boxplot(data, 'Sum')"
   ]
  },
  {
   "cell_type": "markdown",
   "metadata": {},
   "source": [
    "**Вывод:** в нашей выборке отсутствуют выбросы, нет необходимости в дополнительной коррекции данных."
   ]
  },
  {
   "cell_type": "markdown",
   "metadata": {},
   "source": [
    "### Пункт 3. Числовое описание данных. "
   ]
  },
  {
   "cell_type": "markdown",
   "metadata": {},
   "source": [
    "**Размах:** $Range = 13.5$"
   ]
  },
  {
   "cell_type": "code",
   "execution_count": 10,
   "metadata": {},
   "outputs": [
    {
     "data": {
      "text/plain": [
       "13.5"
      ]
     },
     "execution_count": 10,
     "metadata": {},
     "output_type": "execute_result"
    }
   ],
   "source": [
    "data['Sum'].max() - data['Sum'].min()"
   ]
  },
  {
   "cell_type": "markdown",
   "metadata": {},
   "source": [
    "**Моды:** $m_1 = 12.5;  m_2 = 17$"
   ]
  },
  {
   "cell_type": "code",
   "execution_count": 11,
   "metadata": {},
   "outputs": [
    {
     "data": {
      "text/plain": [
       "0    12.5\n",
       "1    17.0\n",
       "dtype: float64"
      ]
     },
     "execution_count": 11,
     "metadata": {},
     "output_type": "execute_result"
    }
   ],
   "source": [
    "data['Sum'].mode()"
   ]
  },
  {
   "cell_type": "markdown",
   "metadata": {},
   "source": [
    "**Медиана:** $med = 11.75$"
   ]
  },
  {
   "cell_type": "code",
   "execution_count": 12,
   "metadata": {},
   "outputs": [
    {
     "data": {
      "text/plain": [
       "11.75"
      ]
     },
     "execution_count": 12,
     "metadata": {},
     "output_type": "execute_result"
    }
   ],
   "source": [
    "data['Sum'].median()"
   ]
  },
  {
   "cell_type": "markdown",
   "metadata": {},
   "source": [
    "**Коэффициент Асимметрии:** $\\alpha \\sim -0.38$"
   ]
  },
  {
   "cell_type": "code",
   "execution_count": 13,
   "metadata": {},
   "outputs": [
    {
     "data": {
      "text/plain": [
       "-0.37997521906965415"
      ]
     },
     "execution_count": 13,
     "metadata": {},
     "output_type": "execute_result"
    }
   ],
   "source": [
    "sps.skew(data['Sum'].to_numpy(), bias=False)"
   ]
  },
  {
   "cell_type": "markdown",
   "metadata": {},
   "source": [
    "### Пункт 4. Оценка плотности и построение эмпирической функции распределения."
   ]
  },
  {
   "cell_type": "markdown",
   "metadata": {},
   "source": [
    "**Оценка плотности:**\n",
    "\n",
    "Для оценки плотности будем использовать гистограмму, поскольку данный способ оценки плотности распределения наиболее нагляден."
   ]
  },
  {
   "cell_type": "code",
   "execution_count": 14,
   "metadata": {},
   "outputs": [
    {
     "data": {
      "image/png": "[encoded data removed]",
      "text/plain": [
       "<Figure size 892.8x691.2 with 1 Axes>"
      ]
     },
     "metadata": {
      "needs_background": "light"
     },
     "output_type": "display_data"
    }
   ],
   "source": [
    "show_hist(data, 'Sum')"
   ]
  },
  {
   "cell_type": "markdown",
   "metadata": {},
   "source": [
    "**Эмпирическая функция распределения:**\n",
    "\n",
    "Теперь построим эмпирическую функцию распределения."
   ]
  },
  {
   "cell_type": "code",
   "execution_count": 15,
   "metadata": {},
   "outputs": [
    {
     "data": {
      "image/png": "[encoded data removed]",
      "text/plain": [
       "<Figure size 892.8x691.2 with 1 Axes>"
      ]
     },
     "metadata": {
      "needs_background": "light"
     },
     "output_type": "display_data"
    }
   ],
   "source": [
    "show_edf(data, 'Sum')"
   ]
  },
  {
   "cell_type": "markdown",
   "metadata": {},
   "source": [
    "___"
   ]
  },
  {
   "cell_type": "code",
   "execution_count": null,
   "metadata": {},
   "outputs": [],
   "source": []
  }
 ],
 "metadata": {
  "kernelspec": {
   "display_name": "Python 3",
   "language": "python",
   "name": "python3"
  },
  "language_info": {
   "codemirror_mode": {
    "name": "ipython",
    "version": 3
   },
   "file_extension": ".py",
   "mimetype": "text/x-python",
   "name": "python",
   "nbconvert_exporter": "python",
   "pygments_lexer": "ipython3",
   "version": "3.8.3"
  }
 },
 "nbformat": 4,
 "nbformat_minor": 4
}
